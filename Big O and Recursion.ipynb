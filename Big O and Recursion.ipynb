{
 "cells": [
  {
   "cell_type": "markdown",
   "metadata": {},
   "source": [
    "# `O(n)` (Big O) Notation"
   ]
  },
  {
   "cell_type": "markdown",
   "metadata": {},
   "source": [
    "## TL;DR: How to model algorithmic performance."
   ]
  },
  {
   "cell_type": "markdown",
   "metadata": {},
   "source": [
    "Big O is a model for how much time a function will take to run given `n` inputs"
   ]
  },
  {
   "cell_type": "markdown",
   "metadata": {},
   "source": [
    "It focuses on the big factors while leaving out the smaller ones to provide a generalization of performance. For example if being used to examine the trinomial $3x^2 + x + 1$ the Big O would be $O(n^2)$ since the $x^2$ acts on $x$ twice and relatively speaking the additional $x$ and $1$ don't make as much of a difference at that point."
   ]
  },
  {
   "cell_type": "markdown",
   "metadata": {},
   "source": [
    "In practice this usually means how many times a function acts upon its parameters, or how many times it loops over them. For example in the below code a for loop is used to act on the `input` data. "
   ]
  },
  {
   "cell_type": "markdown",
   "metadata": {},
   "source": [
    "```javascript\n",
    "function crossAdd(input) {\n",
    "    var answer = [];\n",
    "    for (var i = 0; i < input.length; i++) {\n",
    "        var goingUp = input[i];\n",
    "        var goingDown = input[input.length-1-i];\n",
    "        answer.push(goingUp + goingDown);\n",
    "    }\n",
    "    return answer;\n",
    "}\n",
    "```"
   ]
  },
  {
   "cell_type": "markdown",
   "metadata": {},
   "source": [
    "This is $O(n)$ because we go through all the inputs once in a loop.\n",
    "This next example however has a nested for loop."
   ]
  },
  {
   "cell_type": "markdown",
   "metadata": {},
   "source": [
    "```javascript\n",
    "function makeTuples(input) {\n",
    "    var answer = [];\n",
    "    for (var i = 0; i < input.length; i++) {\n",
    "        for (var j = 0; j < input.length; j++) {\n",
    "            answer.push([input[i], input[j]]);\n",
    "        }\n",
    "    }\n",
    "    return answer;\n",
    "}\n",
    "```"
   ]
  },
  {
   "cell_type": "markdown",
   "metadata": {},
   "source": [
    "This is $O(n^2)$ since for every input we need to go through a full loop inside of another loop. Further nested loops would be $O(n^3)$ and so on."
   ]
  },
  {
   "cell_type": "markdown",
   "metadata": {},
   "source": [
    "A function with no loops would run and then return, so it is said to be in **constant time**, or $O(1)$."
   ]
  },
  {
   "cell_type": "markdown",
   "metadata": {},
   "source": [
    "This can also be used to describe **recursion**.\n",
    "> Recursion is when you define something in terms of itself. "
   ]
  },
  {
   "cell_type": "code",
   "execution_count": null,
   "metadata": {},
   "outputs": [],
   "source": []
  }
 ],
 "metadata": {
  "kernelspec": {
   "display_name": "Javascript (Node.js)",
   "language": "javascript",
   "name": "javascript"
  },
  "language_info": {
   "file_extension": ".js",
   "mimetype": "application/javascript",
   "name": "javascript",
   "version": "13.6.0"
  }
 },
 "nbformat": 4,
 "nbformat_minor": 4
}
